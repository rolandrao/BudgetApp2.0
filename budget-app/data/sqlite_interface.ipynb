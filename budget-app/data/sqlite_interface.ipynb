{
 "cells": [
  {
   "cell_type": "code",
   "execution_count": 1,
   "metadata": {},
   "outputs": [],
   "source": [
    "import sqlite3\n"
   ]
  },
  {
   "cell_type": "code",
   "execution_count": 20,
   "metadata": {},
   "outputs": [],
   "source": [
    "conn = sqlite3.connect('transactions.db')"
   ]
  },
  {
   "cell_type": "code",
   "execution_count": 21,
   "metadata": {},
   "outputs": [],
   "source": [
    "cursor = conn.cursor()"
   ]
  },
  {
   "cell_type": "code",
   "execution_count": 61,
   "metadata": {},
   "outputs": [
    {
     "data": {
      "text/plain": [
       "<sqlite3.Cursor at 0x180948dd740>"
      ]
     },
     "execution_count": 61,
     "metadata": {},
     "output_type": "execute_result"
    }
   ],
   "source": [
    "cursor.execute('''\n",
    "SELECT * FROM transactions\n",
    "ORDER BY timestamp DESC\n",
    "LIMIT 20;\n",
    "''')"
   ]
  },
  {
   "cell_type": "code",
   "execution_count": 62,
   "metadata": {},
   "outputs": [
    {
     "name": "stdout",
     "output_type": "stream",
     "text": [
      "(1667, '2024-12-01 00:00:00', 'Bills', 316.0, 'Roland', 1, 'Car Insurance')\n",
      "(1719, '2024-11-30 00:00:00', 'Shopping', 80.75, 'Sarah', 0, 'VeraBradleyIncECOM')\n",
      "(1720, '2024-11-28 00:00:00', 'Shopping', 11.99, 'Sarah', 0, 'Kindle Unltd*Z332Y8562')\n",
      "(1721, '2024-11-28 00:00:00', 'Fun', 10.99, 'Sarah', 1, 'WWW.F1.COM')\n",
      "(1668, '2024-11-27 00:00:00', 'Bills', 3.18, 'Roland', 0, 'DISCORD* GOLDMEMBERSHI444 DE HARO STREET #200 SAN FRANCISCO94107 CA USA')\n",
      "(1679, '2024-11-27 00:00:00', 'Transportation', 22.06, 'Roland', 0, 'SUNOCO 0989179700')\n",
      "(1680, '2024-11-27 00:00:00', 'Transportation', 2.89, 'Roland', 0, 'SUNOCO 0989179700')\n",
      "(1681, '2024-11-27 00:00:00', 'Groceries', 64.13, 'Roland', 1, 'WAL-MART #2844')\n",
      "(1739, '2024-11-27 00:00:00', 'Groceries', 12.99, 'Sarah', 1, 'TRADER JOE S #574')\n",
      "(1740, '2024-11-27 00:00:00', 'Food', 17.08, 'Sarah', 1, 'DUNKIN #336505 Q35')\n",
      "(1743, '2024-11-27 00:00:00', 'Fun', 20.0, 'Sarah', 1, 'AMAZINGCO INC')\n",
      "(1744, '2024-11-27 00:00:00', 'Food', 23.0, 'Sarah', 1, 'PANERA BREAD #203557 O')\n",
      "(1682, '2024-11-26 00:00:00', 'Transportation', 12.67, 'Roland', 0, 'SHELL OIL 57543496608')\n",
      "(1741, '2024-11-26 00:00:00', 'Food', 6.0, 'Sarah', 0, \"DUNKIN' MOBILE AP\")\n",
      "(1742, '2024-11-26 00:00:00', 'Cat', 28.15, 'Sarah', 1, 'PETSMART # 1355')\n",
      "(1748, '2024-11-26 00:00:00', 'Cat', 7.75, 'Sarah', 1, 'ROVER.COM* PET SVCS.')\n",
      "(1683, '2024-11-25 00:00:00', 'Shopping', 217.22, 'Roland', 1, 'SCHIIT AUDIO')\n",
      "(1684, '2024-11-25 00:00:00', 'Bills', 4.0, 'Roland', 0, 'NYTIMES DISC*')\n",
      "(1745, '2024-11-25 00:00:00', 'Cat', 27.75, 'Sarah', 1, 'ROVER.COM* PET SVCS.')\n",
      "(1746, '2024-11-25 00:00:00', 'Shopping', 16.95, 'Sarah', 0, 'SP ALL THINGS LILLY')\n"
     ]
    }
   ],
   "source": [
    "results = cursor.fetchall()\n",
    "for row in results:\n",
    "    print(row)"
   ]
  },
  {
   "cell_type": "code",
   "execution_count": 24,
   "metadata": {},
   "outputs": [],
   "source": [
    "timestamp = '2024/12/15'\n",
    "category = 'Bills'\n",
    "amount = '316'\n",
    "roommate = 'Roland'\n",
    "shared = 1\n",
    "Notes = 'Car Insurance'"
   ]
  },
  {
   "cell_type": "code",
   "execution_count": 26,
   "metadata": {},
   "outputs": [],
   "source": [
    "cursor.execute('''\n",
    "INSERT INTO transactions (Timestamp, Category, Amount, Roommate, Shared, Notes)\n",
    "VALUES (?, ?, ?, ?, ?, ?)\n",
    "''', (timestamp, category, amount, roommate, shared, Notes))\n",
    "\n",
    "# Commit the transaction\n",
    "conn.commit()"
   ]
  },
  {
   "cell_type": "code",
   "execution_count": 60,
   "metadata": {},
   "outputs": [],
   "source": [
    "# Define the id of the row to be deleted\n",
    "row_id = 1825\n",
    "\n",
    "# Execute the delete query\n",
    "cursor.execute('''\n",
    "DELETE FROM transactions\n",
    "WHERE id > ?\n",
    "''', (row_id,))\n",
    "\n",
    "# Commit the transaction\n",
    "conn.commit()"
   ]
  },
  {
   "cell_type": "code",
   "execution_count": 19,
   "metadata": {},
   "outputs": [],
   "source": [
    "conn.close()"
   ]
  },
  {
   "cell_type": "code",
   "execution_count": 29,
   "metadata": {},
   "outputs": [
    {
     "name": "stdout",
     "output_type": "stream",
     "text": [
      "['id', 'timestamp', 'category', 'amount', 'roommate', 'shared', 'notes']\n"
     ]
    }
   ],
   "source": [
    "cursor.execute('PRAGMA table_info(transactions)')\n",
    "columns_info = cursor.fetchall()\n",
    "column_names = [info[1] for info in columns_info]\n",
    "print(column_names)"
   ]
  }
 ],
 "metadata": {
  "kernelspec": {
   "display_name": "Python 3",
   "language": "python",
   "name": "python3"
  },
  "language_info": {
   "codemirror_mode": {
    "name": "ipython",
    "version": 3
   },
   "file_extension": ".py",
   "mimetype": "text/x-python",
   "name": "python",
   "nbconvert_exporter": "python",
   "pygments_lexer": "ipython3",
   "version": "3.10.11"
  }
 },
 "nbformat": 4,
 "nbformat_minor": 2
}
